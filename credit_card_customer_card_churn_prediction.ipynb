{
  "nbformat": 4,
  "nbformat_minor": 0,
  "metadata": {
    "colab": {
      "provenance": [],
      "authorship_tag": "ABX9TyN0AEb3MpQjFSaV0pBCO95c",
      "include_colab_link": true
    },
    "kernelspec": {
      "name": "python3",
      "display_name": "Python 3"
    },
    "language_info": {
      "name": "python"
    }
  },
  "cells": [
    {
      "cell_type": "markdown",
      "metadata": {
        "id": "view-in-github",
        "colab_type": "text"
      },
      "source": [
        "<a href=\"https://colab.research.google.com/github/amitsahoo11071989/22Jan2024/blob/main/credit_card_customer_card_churn_prediction.ipynb\" target=\"_parent\"><img src=\"https://colab.research.google.com/assets/colab-badge.svg\" alt=\"Open In Colab\"/></a>"
      ]
    },
    {
      "cell_type": "code",
      "execution_count": 154,
      "metadata": {
        "id": "SwJrG82f8X-X"
      },
      "outputs": [],
      "source": [
        "# prompt: import pandas, numpy, tensorflow, keras\n",
        "\n",
        "import pandas as pd\n",
        "import numpy as np\n",
        "\n",
        "import tensorflow as tf\n",
        "from tensorflow import keras\n",
        "\n",
        "#from tensorflow.keras import Sequential, Dense\n"
      ]
    },
    {
      "cell_type": "code",
      "source": [
        "df = pd.read_csv(\"/content/sample_data/Churn_Modelling.csv\")"
      ],
      "metadata": {
        "id": "Q2-xcNUF_6_P"
      },
      "execution_count": 155,
      "outputs": []
    },
    {
      "cell_type": "code",
      "source": [
        "df.drop([\"RowNumber\",  \"CustomerId\", \"Surname\"], axis=1, inplace=True)"
      ],
      "metadata": {
        "id": "kocl5of-AOuQ"
      },
      "execution_count": 156,
      "outputs": []
    },
    {
      "cell_type": "code",
      "source": [
        "df.head()"
      ],
      "metadata": {
        "colab": {
          "base_uri": "https://localhost:8080/",
          "height": 206
        },
        "id": "w0__Q-REAoU7",
        "outputId": "a66d2926-23a8-4b1b-9713-76cd75e9e4b2"
      },
      "execution_count": 157,
      "outputs": [
        {
          "output_type": "execute_result",
          "data": {
            "text/plain": [
              "   CreditScore Geography  Gender  Age  Tenure    Balance  NumOfProducts  \\\n",
              "0          619    France  Female   42       2       0.00              1   \n",
              "1          608     Spain  Female   41       1   83807.86              1   \n",
              "2          502    France  Female   42       8  159660.80              3   \n",
              "3          699    France  Female   39       1       0.00              2   \n",
              "4          850     Spain  Female   43       2  125510.82              1   \n",
              "\n",
              "   HasCrCard  IsActiveMember  EstimatedSalary  Exited  \n",
              "0          1               1        101348.88       1  \n",
              "1          0               1        112542.58       0  \n",
              "2          1               0        113931.57       1  \n",
              "3          0               0         93826.63       0  \n",
              "4          1               1         79084.10       0  "
            ],
            "text/html": [
              "\n",
              "  <div id=\"df-465863a7-4011-4ad9-a85f-4a733e812630\" class=\"colab-df-container\">\n",
              "    <div>\n",
              "<style scoped>\n",
              "    .dataframe tbody tr th:only-of-type {\n",
              "        vertical-align: middle;\n",
              "    }\n",
              "\n",
              "    .dataframe tbody tr th {\n",
              "        vertical-align: top;\n",
              "    }\n",
              "\n",
              "    .dataframe thead th {\n",
              "        text-align: right;\n",
              "    }\n",
              "</style>\n",
              "<table border=\"1\" class=\"dataframe\">\n",
              "  <thead>\n",
              "    <tr style=\"text-align: right;\">\n",
              "      <th></th>\n",
              "      <th>CreditScore</th>\n",
              "      <th>Geography</th>\n",
              "      <th>Gender</th>\n",
              "      <th>Age</th>\n",
              "      <th>Tenure</th>\n",
              "      <th>Balance</th>\n",
              "      <th>NumOfProducts</th>\n",
              "      <th>HasCrCard</th>\n",
              "      <th>IsActiveMember</th>\n",
              "      <th>EstimatedSalary</th>\n",
              "      <th>Exited</th>\n",
              "    </tr>\n",
              "  </thead>\n",
              "  <tbody>\n",
              "    <tr>\n",
              "      <th>0</th>\n",
              "      <td>619</td>\n",
              "      <td>France</td>\n",
              "      <td>Female</td>\n",
              "      <td>42</td>\n",
              "      <td>2</td>\n",
              "      <td>0.00</td>\n",
              "      <td>1</td>\n",
              "      <td>1</td>\n",
              "      <td>1</td>\n",
              "      <td>101348.88</td>\n",
              "      <td>1</td>\n",
              "    </tr>\n",
              "    <tr>\n",
              "      <th>1</th>\n",
              "      <td>608</td>\n",
              "      <td>Spain</td>\n",
              "      <td>Female</td>\n",
              "      <td>41</td>\n",
              "      <td>1</td>\n",
              "      <td>83807.86</td>\n",
              "      <td>1</td>\n",
              "      <td>0</td>\n",
              "      <td>1</td>\n",
              "      <td>112542.58</td>\n",
              "      <td>0</td>\n",
              "    </tr>\n",
              "    <tr>\n",
              "      <th>2</th>\n",
              "      <td>502</td>\n",
              "      <td>France</td>\n",
              "      <td>Female</td>\n",
              "      <td>42</td>\n",
              "      <td>8</td>\n",
              "      <td>159660.80</td>\n",
              "      <td>3</td>\n",
              "      <td>1</td>\n",
              "      <td>0</td>\n",
              "      <td>113931.57</td>\n",
              "      <td>1</td>\n",
              "    </tr>\n",
              "    <tr>\n",
              "      <th>3</th>\n",
              "      <td>699</td>\n",
              "      <td>France</td>\n",
              "      <td>Female</td>\n",
              "      <td>39</td>\n",
              "      <td>1</td>\n",
              "      <td>0.00</td>\n",
              "      <td>2</td>\n",
              "      <td>0</td>\n",
              "      <td>0</td>\n",
              "      <td>93826.63</td>\n",
              "      <td>0</td>\n",
              "    </tr>\n",
              "    <tr>\n",
              "      <th>4</th>\n",
              "      <td>850</td>\n",
              "      <td>Spain</td>\n",
              "      <td>Female</td>\n",
              "      <td>43</td>\n",
              "      <td>2</td>\n",
              "      <td>125510.82</td>\n",
              "      <td>1</td>\n",
              "      <td>1</td>\n",
              "      <td>1</td>\n",
              "      <td>79084.10</td>\n",
              "      <td>0</td>\n",
              "    </tr>\n",
              "  </tbody>\n",
              "</table>\n",
              "</div>\n",
              "    <div class=\"colab-df-buttons\">\n",
              "\n",
              "  <div class=\"colab-df-container\">\n",
              "    <button class=\"colab-df-convert\" onclick=\"convertToInteractive('df-465863a7-4011-4ad9-a85f-4a733e812630')\"\n",
              "            title=\"Convert this dataframe to an interactive table.\"\n",
              "            style=\"display:none;\">\n",
              "\n",
              "  <svg xmlns=\"http://www.w3.org/2000/svg\" height=\"24px\" viewBox=\"0 -960 960 960\">\n",
              "    <path d=\"M120-120v-720h720v720H120Zm60-500h600v-160H180v160Zm220 220h160v-160H400v160Zm0 220h160v-160H400v160ZM180-400h160v-160H180v160Zm440 0h160v-160H620v160ZM180-180h160v-160H180v160Zm440 0h160v-160H620v160Z\"/>\n",
              "  </svg>\n",
              "    </button>\n",
              "\n",
              "  <style>\n",
              "    .colab-df-container {\n",
              "      display:flex;\n",
              "      gap: 12px;\n",
              "    }\n",
              "\n",
              "    .colab-df-convert {\n",
              "      background-color: #E8F0FE;\n",
              "      border: none;\n",
              "      border-radius: 50%;\n",
              "      cursor: pointer;\n",
              "      display: none;\n",
              "      fill: #1967D2;\n",
              "      height: 32px;\n",
              "      padding: 0 0 0 0;\n",
              "      width: 32px;\n",
              "    }\n",
              "\n",
              "    .colab-df-convert:hover {\n",
              "      background-color: #E2EBFA;\n",
              "      box-shadow: 0px 1px 2px rgba(60, 64, 67, 0.3), 0px 1px 3px 1px rgba(60, 64, 67, 0.15);\n",
              "      fill: #174EA6;\n",
              "    }\n",
              "\n",
              "    .colab-df-buttons div {\n",
              "      margin-bottom: 4px;\n",
              "    }\n",
              "\n",
              "    [theme=dark] .colab-df-convert {\n",
              "      background-color: #3B4455;\n",
              "      fill: #D2E3FC;\n",
              "    }\n",
              "\n",
              "    [theme=dark] .colab-df-convert:hover {\n",
              "      background-color: #434B5C;\n",
              "      box-shadow: 0px 1px 3px 1px rgba(0, 0, 0, 0.15);\n",
              "      filter: drop-shadow(0px 1px 2px rgba(0, 0, 0, 0.3));\n",
              "      fill: #FFFFFF;\n",
              "    }\n",
              "  </style>\n",
              "\n",
              "    <script>\n",
              "      const buttonEl =\n",
              "        document.querySelector('#df-465863a7-4011-4ad9-a85f-4a733e812630 button.colab-df-convert');\n",
              "      buttonEl.style.display =\n",
              "        google.colab.kernel.accessAllowed ? 'block' : 'none';\n",
              "\n",
              "      async function convertToInteractive(key) {\n",
              "        const element = document.querySelector('#df-465863a7-4011-4ad9-a85f-4a733e812630');\n",
              "        const dataTable =\n",
              "          await google.colab.kernel.invokeFunction('convertToInteractive',\n",
              "                                                    [key], {});\n",
              "        if (!dataTable) return;\n",
              "\n",
              "        const docLinkHtml = 'Like what you see? Visit the ' +\n",
              "          '<a target=\"_blank\" href=https://colab.research.google.com/notebooks/data_table.ipynb>data table notebook</a>'\n",
              "          + ' to learn more about interactive tables.';\n",
              "        element.innerHTML = '';\n",
              "        dataTable['output_type'] = 'display_data';\n",
              "        await google.colab.output.renderOutput(dataTable, element);\n",
              "        const docLink = document.createElement('div');\n",
              "        docLink.innerHTML = docLinkHtml;\n",
              "        element.appendChild(docLink);\n",
              "      }\n",
              "    </script>\n",
              "  </div>\n",
              "\n",
              "\n",
              "<div id=\"df-55812121-7e57-4051-9898-696c6b7dfa0c\">\n",
              "  <button class=\"colab-df-quickchart\" onclick=\"quickchart('df-55812121-7e57-4051-9898-696c6b7dfa0c')\"\n",
              "            title=\"Suggest charts\"\n",
              "            style=\"display:none;\">\n",
              "\n",
              "<svg xmlns=\"http://www.w3.org/2000/svg\" height=\"24px\"viewBox=\"0 0 24 24\"\n",
              "     width=\"24px\">\n",
              "    <g>\n",
              "        <path d=\"M19 3H5c-1.1 0-2 .9-2 2v14c0 1.1.9 2 2 2h14c1.1 0 2-.9 2-2V5c0-1.1-.9-2-2-2zM9 17H7v-7h2v7zm4 0h-2V7h2v10zm4 0h-2v-4h2v4z\"/>\n",
              "    </g>\n",
              "</svg>\n",
              "  </button>\n",
              "\n",
              "<style>\n",
              "  .colab-df-quickchart {\n",
              "      --bg-color: #E8F0FE;\n",
              "      --fill-color: #1967D2;\n",
              "      --hover-bg-color: #E2EBFA;\n",
              "      --hover-fill-color: #174EA6;\n",
              "      --disabled-fill-color: #AAA;\n",
              "      --disabled-bg-color: #DDD;\n",
              "  }\n",
              "\n",
              "  [theme=dark] .colab-df-quickchart {\n",
              "      --bg-color: #3B4455;\n",
              "      --fill-color: #D2E3FC;\n",
              "      --hover-bg-color: #434B5C;\n",
              "      --hover-fill-color: #FFFFFF;\n",
              "      --disabled-bg-color: #3B4455;\n",
              "      --disabled-fill-color: #666;\n",
              "  }\n",
              "\n",
              "  .colab-df-quickchart {\n",
              "    background-color: var(--bg-color);\n",
              "    border: none;\n",
              "    border-radius: 50%;\n",
              "    cursor: pointer;\n",
              "    display: none;\n",
              "    fill: var(--fill-color);\n",
              "    height: 32px;\n",
              "    padding: 0;\n",
              "    width: 32px;\n",
              "  }\n",
              "\n",
              "  .colab-df-quickchart:hover {\n",
              "    background-color: var(--hover-bg-color);\n",
              "    box-shadow: 0 1px 2px rgba(60, 64, 67, 0.3), 0 1px 3px 1px rgba(60, 64, 67, 0.15);\n",
              "    fill: var(--button-hover-fill-color);\n",
              "  }\n",
              "\n",
              "  .colab-df-quickchart-complete:disabled,\n",
              "  .colab-df-quickchart-complete:disabled:hover {\n",
              "    background-color: var(--disabled-bg-color);\n",
              "    fill: var(--disabled-fill-color);\n",
              "    box-shadow: none;\n",
              "  }\n",
              "\n",
              "  .colab-df-spinner {\n",
              "    border: 2px solid var(--fill-color);\n",
              "    border-color: transparent;\n",
              "    border-bottom-color: var(--fill-color);\n",
              "    animation:\n",
              "      spin 1s steps(1) infinite;\n",
              "  }\n",
              "\n",
              "  @keyframes spin {\n",
              "    0% {\n",
              "      border-color: transparent;\n",
              "      border-bottom-color: var(--fill-color);\n",
              "      border-left-color: var(--fill-color);\n",
              "    }\n",
              "    20% {\n",
              "      border-color: transparent;\n",
              "      border-left-color: var(--fill-color);\n",
              "      border-top-color: var(--fill-color);\n",
              "    }\n",
              "    30% {\n",
              "      border-color: transparent;\n",
              "      border-left-color: var(--fill-color);\n",
              "      border-top-color: var(--fill-color);\n",
              "      border-right-color: var(--fill-color);\n",
              "    }\n",
              "    40% {\n",
              "      border-color: transparent;\n",
              "      border-right-color: var(--fill-color);\n",
              "      border-top-color: var(--fill-color);\n",
              "    }\n",
              "    60% {\n",
              "      border-color: transparent;\n",
              "      border-right-color: var(--fill-color);\n",
              "    }\n",
              "    80% {\n",
              "      border-color: transparent;\n",
              "      border-right-color: var(--fill-color);\n",
              "      border-bottom-color: var(--fill-color);\n",
              "    }\n",
              "    90% {\n",
              "      border-color: transparent;\n",
              "      border-bottom-color: var(--fill-color);\n",
              "    }\n",
              "  }\n",
              "</style>\n",
              "\n",
              "  <script>\n",
              "    async function quickchart(key) {\n",
              "      const quickchartButtonEl =\n",
              "        document.querySelector('#' + key + ' button');\n",
              "      quickchartButtonEl.disabled = true;  // To prevent multiple clicks.\n",
              "      quickchartButtonEl.classList.add('colab-df-spinner');\n",
              "      try {\n",
              "        const charts = await google.colab.kernel.invokeFunction(\n",
              "            'suggestCharts', [key], {});\n",
              "      } catch (error) {\n",
              "        console.error('Error during call to suggestCharts:', error);\n",
              "      }\n",
              "      quickchartButtonEl.classList.remove('colab-df-spinner');\n",
              "      quickchartButtonEl.classList.add('colab-df-quickchart-complete');\n",
              "    }\n",
              "    (() => {\n",
              "      let quickchartButtonEl =\n",
              "        document.querySelector('#df-55812121-7e57-4051-9898-696c6b7dfa0c button');\n",
              "      quickchartButtonEl.style.display =\n",
              "        google.colab.kernel.accessAllowed ? 'block' : 'none';\n",
              "    })();\n",
              "  </script>\n",
              "</div>\n",
              "\n",
              "    </div>\n",
              "  </div>\n"
            ],
            "application/vnd.google.colaboratory.intrinsic+json": {
              "type": "dataframe",
              "variable_name": "df",
              "summary": "{\n  \"name\": \"df\",\n  \"rows\": 10000,\n  \"fields\": [\n    {\n      \"column\": \"CreditScore\",\n      \"properties\": {\n        \"dtype\": \"number\",\n        \"std\": 96,\n        \"min\": 350,\n        \"max\": 850,\n        \"num_unique_values\": 460,\n        \"samples\": [\n          754,\n          533,\n          744\n        ],\n        \"semantic_type\": \"\",\n        \"description\": \"\"\n      }\n    },\n    {\n      \"column\": \"Geography\",\n      \"properties\": {\n        \"dtype\": \"category\",\n        \"num_unique_values\": 3,\n        \"samples\": [\n          \"France\",\n          \"Spain\",\n          \"Germany\"\n        ],\n        \"semantic_type\": \"\",\n        \"description\": \"\"\n      }\n    },\n    {\n      \"column\": \"Gender\",\n      \"properties\": {\n        \"dtype\": \"category\",\n        \"num_unique_values\": 2,\n        \"samples\": [\n          \"Male\",\n          \"Female\"\n        ],\n        \"semantic_type\": \"\",\n        \"description\": \"\"\n      }\n    },\n    {\n      \"column\": \"Age\",\n      \"properties\": {\n        \"dtype\": \"number\",\n        \"std\": 10,\n        \"min\": 18,\n        \"max\": 92,\n        \"num_unique_values\": 70,\n        \"samples\": [\n          61,\n          42\n        ],\n        \"semantic_type\": \"\",\n        \"description\": \"\"\n      }\n    },\n    {\n      \"column\": \"Tenure\",\n      \"properties\": {\n        \"dtype\": \"number\",\n        \"std\": 2,\n        \"min\": 0,\n        \"max\": 10,\n        \"num_unique_values\": 11,\n        \"samples\": [\n          6,\n          2\n        ],\n        \"semantic_type\": \"\",\n        \"description\": \"\"\n      }\n    },\n    {\n      \"column\": \"Balance\",\n      \"properties\": {\n        \"dtype\": \"number\",\n        \"std\": 62397.405202385955,\n        \"min\": 0.0,\n        \"max\": 250898.09,\n        \"num_unique_values\": 6382,\n        \"samples\": [\n          117707.18,\n          133050.97\n        ],\n        \"semantic_type\": \"\",\n        \"description\": \"\"\n      }\n    },\n    {\n      \"column\": \"NumOfProducts\",\n      \"properties\": {\n        \"dtype\": \"number\",\n        \"std\": 0,\n        \"min\": 1,\n        \"max\": 4,\n        \"num_unique_values\": 4,\n        \"samples\": [\n          3,\n          4\n        ],\n        \"semantic_type\": \"\",\n        \"description\": \"\"\n      }\n    },\n    {\n      \"column\": \"HasCrCard\",\n      \"properties\": {\n        \"dtype\": \"number\",\n        \"std\": 0,\n        \"min\": 0,\n        \"max\": 1,\n        \"num_unique_values\": 2,\n        \"samples\": [\n          0,\n          1\n        ],\n        \"semantic_type\": \"\",\n        \"description\": \"\"\n      }\n    },\n    {\n      \"column\": \"IsActiveMember\",\n      \"properties\": {\n        \"dtype\": \"number\",\n        \"std\": 0,\n        \"min\": 0,\n        \"max\": 1,\n        \"num_unique_values\": 2,\n        \"samples\": [\n          0,\n          1\n        ],\n        \"semantic_type\": \"\",\n        \"description\": \"\"\n      }\n    },\n    {\n      \"column\": \"EstimatedSalary\",\n      \"properties\": {\n        \"dtype\": \"number\",\n        \"std\": 57510.49281769816,\n        \"min\": 11.58,\n        \"max\": 199992.48,\n        \"num_unique_values\": 9999,\n        \"samples\": [\n          100809.99,\n          95273.73\n        ],\n        \"semantic_type\": \"\",\n        \"description\": \"\"\n      }\n    },\n    {\n      \"column\": \"Exited\",\n      \"properties\": {\n        \"dtype\": \"number\",\n        \"std\": 0,\n        \"min\": 0,\n        \"max\": 1,\n        \"num_unique_values\": 2,\n        \"samples\": [\n          0,\n          1\n        ],\n        \"semantic_type\": \"\",\n        \"description\": \"\"\n      }\n    }\n  ]\n}"
            }
          },
          "metadata": {},
          "execution_count": 157
        }
      ]
    },
    {
      "cell_type": "code",
      "source": [
        "df[\"Geography\"].value_counts()"
      ],
      "metadata": {
        "colab": {
          "base_uri": "https://localhost:8080/"
        },
        "id": "VX6y_asHACK7",
        "outputId": "518b66c6-ef27-47b3-a575-4d33557eb4be"
      },
      "execution_count": 158,
      "outputs": [
        {
          "output_type": "execute_result",
          "data": {
            "text/plain": [
              "France     5014\n",
              "Germany    2509\n",
              "Spain      2477\n",
              "Name: Geography, dtype: int64"
            ]
          },
          "metadata": {},
          "execution_count": 158
        }
      ]
    },
    {
      "cell_type": "code",
      "source": [
        "df[\"Gender\"].value_counts()"
      ],
      "metadata": {
        "colab": {
          "base_uri": "https://localhost:8080/"
        },
        "id": "_aWV0bQnAnM9",
        "outputId": "4b388f16-e58f-4845-97f7-cb7d77f715c1"
      },
      "execution_count": 159,
      "outputs": [
        {
          "output_type": "execute_result",
          "data": {
            "text/plain": [
              "Male      5457\n",
              "Female    4543\n",
              "Name: Gender, dtype: int64"
            ]
          },
          "metadata": {},
          "execution_count": 159
        }
      ]
    },
    {
      "cell_type": "code",
      "source": [
        "gender_dict = {\"Male\": 1, \"Female\":0}\n",
        "df[\"Gender\"] = df[\"Gender\"].map(gender_dict)"
      ],
      "metadata": {
        "id": "bMS2PJEhNFhL"
      },
      "execution_count": 160,
      "outputs": []
    },
    {
      "cell_type": "code",
      "source": [
        "df[\"Gender\"].value_counts()"
      ],
      "metadata": {
        "colab": {
          "base_uri": "https://localhost:8080/"
        },
        "id": "pvhfZV3hRCiy",
        "outputId": "97dc6584-2b48-4e77-9b38-3c6057f74907"
      },
      "execution_count": 161,
      "outputs": [
        {
          "output_type": "execute_result",
          "data": {
            "text/plain": [
              "1    5457\n",
              "0    4543\n",
              "Name: Gender, dtype: int64"
            ]
          },
          "metadata": {},
          "execution_count": 161
        }
      ]
    },
    {
      "cell_type": "code",
      "source": [
        "from sklearn.preprocessing import OneHotEncoder\n",
        "ohe = OneHotEncoder(handle_unknown='ignore', sparse=False, drop=\"first\")\n",
        "ohe.fit(df[[\"Geography\"]])"
      ],
      "metadata": {
        "colab": {
          "base_uri": "https://localhost:8080/",
          "height": 148
        },
        "id": "LDCxRK0LN-Rb",
        "outputId": "29c0a287-9f5a-4bf8-ab54-6fb35ca21df6"
      },
      "execution_count": 162,
      "outputs": [
        {
          "output_type": "stream",
          "name": "stderr",
          "text": [
            "/usr/local/lib/python3.10/dist-packages/sklearn/preprocessing/_encoders.py:868: FutureWarning: `sparse` was renamed to `sparse_output` in version 1.2 and will be removed in 1.4. `sparse_output` is ignored unless you leave `sparse` to its default value.\n",
            "  warnings.warn(\n"
          ]
        },
        {
          "output_type": "execute_result",
          "data": {
            "text/plain": [
              "OneHotEncoder(drop='first', handle_unknown='ignore', sparse=False,\n",
              "              sparse_output=False)"
            ],
            "text/html": [
              "<style>#sk-container-id-7 {color: black;background-color: white;}#sk-container-id-7 pre{padding: 0;}#sk-container-id-7 div.sk-toggleable {background-color: white;}#sk-container-id-7 label.sk-toggleable__label {cursor: pointer;display: block;width: 100%;margin-bottom: 0;padding: 0.3em;box-sizing: border-box;text-align: center;}#sk-container-id-7 label.sk-toggleable__label-arrow:before {content: \"▸\";float: left;margin-right: 0.25em;color: #696969;}#sk-container-id-7 label.sk-toggleable__label-arrow:hover:before {color: black;}#sk-container-id-7 div.sk-estimator:hover label.sk-toggleable__label-arrow:before {color: black;}#sk-container-id-7 div.sk-toggleable__content {max-height: 0;max-width: 0;overflow: hidden;text-align: left;background-color: #f0f8ff;}#sk-container-id-7 div.sk-toggleable__content pre {margin: 0.2em;color: black;border-radius: 0.25em;background-color: #f0f8ff;}#sk-container-id-7 input.sk-toggleable__control:checked~div.sk-toggleable__content {max-height: 200px;max-width: 100%;overflow: auto;}#sk-container-id-7 input.sk-toggleable__control:checked~label.sk-toggleable__label-arrow:before {content: \"▾\";}#sk-container-id-7 div.sk-estimator input.sk-toggleable__control:checked~label.sk-toggleable__label {background-color: #d4ebff;}#sk-container-id-7 div.sk-label input.sk-toggleable__control:checked~label.sk-toggleable__label {background-color: #d4ebff;}#sk-container-id-7 input.sk-hidden--visually {border: 0;clip: rect(1px 1px 1px 1px);clip: rect(1px, 1px, 1px, 1px);height: 1px;margin: -1px;overflow: hidden;padding: 0;position: absolute;width: 1px;}#sk-container-id-7 div.sk-estimator {font-family: monospace;background-color: #f0f8ff;border: 1px dotted black;border-radius: 0.25em;box-sizing: border-box;margin-bottom: 0.5em;}#sk-container-id-7 div.sk-estimator:hover {background-color: #d4ebff;}#sk-container-id-7 div.sk-parallel-item::after {content: \"\";width: 100%;border-bottom: 1px solid gray;flex-grow: 1;}#sk-container-id-7 div.sk-label:hover label.sk-toggleable__label {background-color: #d4ebff;}#sk-container-id-7 div.sk-serial::before {content: \"\";position: absolute;border-left: 1px solid gray;box-sizing: border-box;top: 0;bottom: 0;left: 50%;z-index: 0;}#sk-container-id-7 div.sk-serial {display: flex;flex-direction: column;align-items: center;background-color: white;padding-right: 0.2em;padding-left: 0.2em;position: relative;}#sk-container-id-7 div.sk-item {position: relative;z-index: 1;}#sk-container-id-7 div.sk-parallel {display: flex;align-items: stretch;justify-content: center;background-color: white;position: relative;}#sk-container-id-7 div.sk-item::before, #sk-container-id-7 div.sk-parallel-item::before {content: \"\";position: absolute;border-left: 1px solid gray;box-sizing: border-box;top: 0;bottom: 0;left: 50%;z-index: -1;}#sk-container-id-7 div.sk-parallel-item {display: flex;flex-direction: column;z-index: 1;position: relative;background-color: white;}#sk-container-id-7 div.sk-parallel-item:first-child::after {align-self: flex-end;width: 50%;}#sk-container-id-7 div.sk-parallel-item:last-child::after {align-self: flex-start;width: 50%;}#sk-container-id-7 div.sk-parallel-item:only-child::after {width: 0;}#sk-container-id-7 div.sk-dashed-wrapped {border: 1px dashed gray;margin: 0 0.4em 0.5em 0.4em;box-sizing: border-box;padding-bottom: 0.4em;background-color: white;}#sk-container-id-7 div.sk-label label {font-family: monospace;font-weight: bold;display: inline-block;line-height: 1.2em;}#sk-container-id-7 div.sk-label-container {text-align: center;}#sk-container-id-7 div.sk-container {/* jupyter's `normalize.less` sets `[hidden] { display: none; }` but bootstrap.min.css set `[hidden] { display: none !important; }` so we also need the `!important` here to be able to override the default hidden behavior on the sphinx rendered scikit-learn.org. See: https://github.com/scikit-learn/scikit-learn/issues/21755 */display: inline-block !important;position: relative;}#sk-container-id-7 div.sk-text-repr-fallback {display: none;}</style><div id=\"sk-container-id-7\" class=\"sk-top-container\"><div class=\"sk-text-repr-fallback\"><pre>OneHotEncoder(drop=&#x27;first&#x27;, handle_unknown=&#x27;ignore&#x27;, sparse=False,\n",
              "              sparse_output=False)</pre><b>In a Jupyter environment, please rerun this cell to show the HTML representation or trust the notebook. <br />On GitHub, the HTML representation is unable to render, please try loading this page with nbviewer.org.</b></div><div class=\"sk-container\" hidden><div class=\"sk-item\"><div class=\"sk-estimator sk-toggleable\"><input class=\"sk-toggleable__control sk-hidden--visually\" id=\"sk-estimator-id-7\" type=\"checkbox\" checked><label for=\"sk-estimator-id-7\" class=\"sk-toggleable__label sk-toggleable__label-arrow\">OneHotEncoder</label><div class=\"sk-toggleable__content\"><pre>OneHotEncoder(drop=&#x27;first&#x27;, handle_unknown=&#x27;ignore&#x27;, sparse=False,\n",
              "              sparse_output=False)</pre></div></div></div></div></div>"
            ]
          },
          "metadata": {},
          "execution_count": 162
        }
      ]
    },
    {
      "cell_type": "code",
      "source": [
        "encoded_columns = list(ohe.get_feature_names_out())"
      ],
      "metadata": {
        "id": "uXBt7NhYPeCN"
      },
      "execution_count": 163,
      "outputs": []
    },
    {
      "cell_type": "code",
      "source": [
        "df[encoded_columns] = ohe.transform(df[[\"Geography\"]])"
      ],
      "metadata": {
        "id": "nt4U_AMiP_Ai"
      },
      "execution_count": 164,
      "outputs": []
    },
    {
      "cell_type": "code",
      "source": [
        "df.drop([\"Geography\"], axis = 1, inplace=True)"
      ],
      "metadata": {
        "id": "pWW4wX_KQKrt"
      },
      "execution_count": 165,
      "outputs": []
    },
    {
      "cell_type": "code",
      "source": [
        "df.tail()"
      ],
      "metadata": {
        "colab": {
          "base_uri": "https://localhost:8080/",
          "height": 206
        },
        "id": "-fuO-C2nQmxx",
        "outputId": "40cc961f-2b26-49e1-aede-36d7e96d55f2"
      },
      "execution_count": 166,
      "outputs": [
        {
          "output_type": "execute_result",
          "data": {
            "text/plain": [
              "      CreditScore  Gender  Age  Tenure    Balance  NumOfProducts  HasCrCard  \\\n",
              "9995          771       1   39       5       0.00              2          1   \n",
              "9996          516       1   35      10   57369.61              1          1   \n",
              "9997          709       0   36       7       0.00              1          0   \n",
              "9998          772       1   42       3   75075.31              2          1   \n",
              "9999          792       0   28       4  130142.79              1          1   \n",
              "\n",
              "      IsActiveMember  EstimatedSalary  Exited  Geography_Germany  \\\n",
              "9995               0         96270.64       0                0.0   \n",
              "9996               1        101699.77       0                0.0   \n",
              "9997               1         42085.58       1                0.0   \n",
              "9998               0         92888.52       1                1.0   \n",
              "9999               0         38190.78       0                0.0   \n",
              "\n",
              "      Geography_Spain  \n",
              "9995              0.0  \n",
              "9996              0.0  \n",
              "9997              0.0  \n",
              "9998              0.0  \n",
              "9999              0.0  "
            ],
            "text/html": [
              "\n",
              "  <div id=\"df-07d2fcab-37bf-4bf3-899c-9e1955b0c906\" class=\"colab-df-container\">\n",
              "    <div>\n",
              "<style scoped>\n",
              "    .dataframe tbody tr th:only-of-type {\n",
              "        vertical-align: middle;\n",
              "    }\n",
              "\n",
              "    .dataframe tbody tr th {\n",
              "        vertical-align: top;\n",
              "    }\n",
              "\n",
              "    .dataframe thead th {\n",
              "        text-align: right;\n",
              "    }\n",
              "</style>\n",
              "<table border=\"1\" class=\"dataframe\">\n",
              "  <thead>\n",
              "    <tr style=\"text-align: right;\">\n",
              "      <th></th>\n",
              "      <th>CreditScore</th>\n",
              "      <th>Gender</th>\n",
              "      <th>Age</th>\n",
              "      <th>Tenure</th>\n",
              "      <th>Balance</th>\n",
              "      <th>NumOfProducts</th>\n",
              "      <th>HasCrCard</th>\n",
              "      <th>IsActiveMember</th>\n",
              "      <th>EstimatedSalary</th>\n",
              "      <th>Exited</th>\n",
              "      <th>Geography_Germany</th>\n",
              "      <th>Geography_Spain</th>\n",
              "    </tr>\n",
              "  </thead>\n",
              "  <tbody>\n",
              "    <tr>\n",
              "      <th>9995</th>\n",
              "      <td>771</td>\n",
              "      <td>1</td>\n",
              "      <td>39</td>\n",
              "      <td>5</td>\n",
              "      <td>0.00</td>\n",
              "      <td>2</td>\n",
              "      <td>1</td>\n",
              "      <td>0</td>\n",
              "      <td>96270.64</td>\n",
              "      <td>0</td>\n",
              "      <td>0.0</td>\n",
              "      <td>0.0</td>\n",
              "    </tr>\n",
              "    <tr>\n",
              "      <th>9996</th>\n",
              "      <td>516</td>\n",
              "      <td>1</td>\n",
              "      <td>35</td>\n",
              "      <td>10</td>\n",
              "      <td>57369.61</td>\n",
              "      <td>1</td>\n",
              "      <td>1</td>\n",
              "      <td>1</td>\n",
              "      <td>101699.77</td>\n",
              "      <td>0</td>\n",
              "      <td>0.0</td>\n",
              "      <td>0.0</td>\n",
              "    </tr>\n",
              "    <tr>\n",
              "      <th>9997</th>\n",
              "      <td>709</td>\n",
              "      <td>0</td>\n",
              "      <td>36</td>\n",
              "      <td>7</td>\n",
              "      <td>0.00</td>\n",
              "      <td>1</td>\n",
              "      <td>0</td>\n",
              "      <td>1</td>\n",
              "      <td>42085.58</td>\n",
              "      <td>1</td>\n",
              "      <td>0.0</td>\n",
              "      <td>0.0</td>\n",
              "    </tr>\n",
              "    <tr>\n",
              "      <th>9998</th>\n",
              "      <td>772</td>\n",
              "      <td>1</td>\n",
              "      <td>42</td>\n",
              "      <td>3</td>\n",
              "      <td>75075.31</td>\n",
              "      <td>2</td>\n",
              "      <td>1</td>\n",
              "      <td>0</td>\n",
              "      <td>92888.52</td>\n",
              "      <td>1</td>\n",
              "      <td>1.0</td>\n",
              "      <td>0.0</td>\n",
              "    </tr>\n",
              "    <tr>\n",
              "      <th>9999</th>\n",
              "      <td>792</td>\n",
              "      <td>0</td>\n",
              "      <td>28</td>\n",
              "      <td>4</td>\n",
              "      <td>130142.79</td>\n",
              "      <td>1</td>\n",
              "      <td>1</td>\n",
              "      <td>0</td>\n",
              "      <td>38190.78</td>\n",
              "      <td>0</td>\n",
              "      <td>0.0</td>\n",
              "      <td>0.0</td>\n",
              "    </tr>\n",
              "  </tbody>\n",
              "</table>\n",
              "</div>\n",
              "    <div class=\"colab-df-buttons\">\n",
              "\n",
              "  <div class=\"colab-df-container\">\n",
              "    <button class=\"colab-df-convert\" onclick=\"convertToInteractive('df-07d2fcab-37bf-4bf3-899c-9e1955b0c906')\"\n",
              "            title=\"Convert this dataframe to an interactive table.\"\n",
              "            style=\"display:none;\">\n",
              "\n",
              "  <svg xmlns=\"http://www.w3.org/2000/svg\" height=\"24px\" viewBox=\"0 -960 960 960\">\n",
              "    <path d=\"M120-120v-720h720v720H120Zm60-500h600v-160H180v160Zm220 220h160v-160H400v160Zm0 220h160v-160H400v160ZM180-400h160v-160H180v160Zm440 0h160v-160H620v160ZM180-180h160v-160H180v160Zm440 0h160v-160H620v160Z\"/>\n",
              "  </svg>\n",
              "    </button>\n",
              "\n",
              "  <style>\n",
              "    .colab-df-container {\n",
              "      display:flex;\n",
              "      gap: 12px;\n",
              "    }\n",
              "\n",
              "    .colab-df-convert {\n",
              "      background-color: #E8F0FE;\n",
              "      border: none;\n",
              "      border-radius: 50%;\n",
              "      cursor: pointer;\n",
              "      display: none;\n",
              "      fill: #1967D2;\n",
              "      height: 32px;\n",
              "      padding: 0 0 0 0;\n",
              "      width: 32px;\n",
              "    }\n",
              "\n",
              "    .colab-df-convert:hover {\n",
              "      background-color: #E2EBFA;\n",
              "      box-shadow: 0px 1px 2px rgba(60, 64, 67, 0.3), 0px 1px 3px 1px rgba(60, 64, 67, 0.15);\n",
              "      fill: #174EA6;\n",
              "    }\n",
              "\n",
              "    .colab-df-buttons div {\n",
              "      margin-bottom: 4px;\n",
              "    }\n",
              "\n",
              "    [theme=dark] .colab-df-convert {\n",
              "      background-color: #3B4455;\n",
              "      fill: #D2E3FC;\n",
              "    }\n",
              "\n",
              "    [theme=dark] .colab-df-convert:hover {\n",
              "      background-color: #434B5C;\n",
              "      box-shadow: 0px 1px 3px 1px rgba(0, 0, 0, 0.15);\n",
              "      filter: drop-shadow(0px 1px 2px rgba(0, 0, 0, 0.3));\n",
              "      fill: #FFFFFF;\n",
              "    }\n",
              "  </style>\n",
              "\n",
              "    <script>\n",
              "      const buttonEl =\n",
              "        document.querySelector('#df-07d2fcab-37bf-4bf3-899c-9e1955b0c906 button.colab-df-convert');\n",
              "      buttonEl.style.display =\n",
              "        google.colab.kernel.accessAllowed ? 'block' : 'none';\n",
              "\n",
              "      async function convertToInteractive(key) {\n",
              "        const element = document.querySelector('#df-07d2fcab-37bf-4bf3-899c-9e1955b0c906');\n",
              "        const dataTable =\n",
              "          await google.colab.kernel.invokeFunction('convertToInteractive',\n",
              "                                                    [key], {});\n",
              "        if (!dataTable) return;\n",
              "\n",
              "        const docLinkHtml = 'Like what you see? Visit the ' +\n",
              "          '<a target=\"_blank\" href=https://colab.research.google.com/notebooks/data_table.ipynb>data table notebook</a>'\n",
              "          + ' to learn more about interactive tables.';\n",
              "        element.innerHTML = '';\n",
              "        dataTable['output_type'] = 'display_data';\n",
              "        await google.colab.output.renderOutput(dataTable, element);\n",
              "        const docLink = document.createElement('div');\n",
              "        docLink.innerHTML = docLinkHtml;\n",
              "        element.appendChild(docLink);\n",
              "      }\n",
              "    </script>\n",
              "  </div>\n",
              "\n",
              "\n",
              "<div id=\"df-208c19cb-80cc-4fce-b6fb-7c7dae83e91e\">\n",
              "  <button class=\"colab-df-quickchart\" onclick=\"quickchart('df-208c19cb-80cc-4fce-b6fb-7c7dae83e91e')\"\n",
              "            title=\"Suggest charts\"\n",
              "            style=\"display:none;\">\n",
              "\n",
              "<svg xmlns=\"http://www.w3.org/2000/svg\" height=\"24px\"viewBox=\"0 0 24 24\"\n",
              "     width=\"24px\">\n",
              "    <g>\n",
              "        <path d=\"M19 3H5c-1.1 0-2 .9-2 2v14c0 1.1.9 2 2 2h14c1.1 0 2-.9 2-2V5c0-1.1-.9-2-2-2zM9 17H7v-7h2v7zm4 0h-2V7h2v10zm4 0h-2v-4h2v4z\"/>\n",
              "    </g>\n",
              "</svg>\n",
              "  </button>\n",
              "\n",
              "<style>\n",
              "  .colab-df-quickchart {\n",
              "      --bg-color: #E8F0FE;\n",
              "      --fill-color: #1967D2;\n",
              "      --hover-bg-color: #E2EBFA;\n",
              "      --hover-fill-color: #174EA6;\n",
              "      --disabled-fill-color: #AAA;\n",
              "      --disabled-bg-color: #DDD;\n",
              "  }\n",
              "\n",
              "  [theme=dark] .colab-df-quickchart {\n",
              "      --bg-color: #3B4455;\n",
              "      --fill-color: #D2E3FC;\n",
              "      --hover-bg-color: #434B5C;\n",
              "      --hover-fill-color: #FFFFFF;\n",
              "      --disabled-bg-color: #3B4455;\n",
              "      --disabled-fill-color: #666;\n",
              "  }\n",
              "\n",
              "  .colab-df-quickchart {\n",
              "    background-color: var(--bg-color);\n",
              "    border: none;\n",
              "    border-radius: 50%;\n",
              "    cursor: pointer;\n",
              "    display: none;\n",
              "    fill: var(--fill-color);\n",
              "    height: 32px;\n",
              "    padding: 0;\n",
              "    width: 32px;\n",
              "  }\n",
              "\n",
              "  .colab-df-quickchart:hover {\n",
              "    background-color: var(--hover-bg-color);\n",
              "    box-shadow: 0 1px 2px rgba(60, 64, 67, 0.3), 0 1px 3px 1px rgba(60, 64, 67, 0.15);\n",
              "    fill: var(--button-hover-fill-color);\n",
              "  }\n",
              "\n",
              "  .colab-df-quickchart-complete:disabled,\n",
              "  .colab-df-quickchart-complete:disabled:hover {\n",
              "    background-color: var(--disabled-bg-color);\n",
              "    fill: var(--disabled-fill-color);\n",
              "    box-shadow: none;\n",
              "  }\n",
              "\n",
              "  .colab-df-spinner {\n",
              "    border: 2px solid var(--fill-color);\n",
              "    border-color: transparent;\n",
              "    border-bottom-color: var(--fill-color);\n",
              "    animation:\n",
              "      spin 1s steps(1) infinite;\n",
              "  }\n",
              "\n",
              "  @keyframes spin {\n",
              "    0% {\n",
              "      border-color: transparent;\n",
              "      border-bottom-color: var(--fill-color);\n",
              "      border-left-color: var(--fill-color);\n",
              "    }\n",
              "    20% {\n",
              "      border-color: transparent;\n",
              "      border-left-color: var(--fill-color);\n",
              "      border-top-color: var(--fill-color);\n",
              "    }\n",
              "    30% {\n",
              "      border-color: transparent;\n",
              "      border-left-color: var(--fill-color);\n",
              "      border-top-color: var(--fill-color);\n",
              "      border-right-color: var(--fill-color);\n",
              "    }\n",
              "    40% {\n",
              "      border-color: transparent;\n",
              "      border-right-color: var(--fill-color);\n",
              "      border-top-color: var(--fill-color);\n",
              "    }\n",
              "    60% {\n",
              "      border-color: transparent;\n",
              "      border-right-color: var(--fill-color);\n",
              "    }\n",
              "    80% {\n",
              "      border-color: transparent;\n",
              "      border-right-color: var(--fill-color);\n",
              "      border-bottom-color: var(--fill-color);\n",
              "    }\n",
              "    90% {\n",
              "      border-color: transparent;\n",
              "      border-bottom-color: var(--fill-color);\n",
              "    }\n",
              "  }\n",
              "</style>\n",
              "\n",
              "  <script>\n",
              "    async function quickchart(key) {\n",
              "      const quickchartButtonEl =\n",
              "        document.querySelector('#' + key + ' button');\n",
              "      quickchartButtonEl.disabled = true;  // To prevent multiple clicks.\n",
              "      quickchartButtonEl.classList.add('colab-df-spinner');\n",
              "      try {\n",
              "        const charts = await google.colab.kernel.invokeFunction(\n",
              "            'suggestCharts', [key], {});\n",
              "      } catch (error) {\n",
              "        console.error('Error during call to suggestCharts:', error);\n",
              "      }\n",
              "      quickchartButtonEl.classList.remove('colab-df-spinner');\n",
              "      quickchartButtonEl.classList.add('colab-df-quickchart-complete');\n",
              "    }\n",
              "    (() => {\n",
              "      let quickchartButtonEl =\n",
              "        document.querySelector('#df-208c19cb-80cc-4fce-b6fb-7c7dae83e91e button');\n",
              "      quickchartButtonEl.style.display =\n",
              "        google.colab.kernel.accessAllowed ? 'block' : 'none';\n",
              "    })();\n",
              "  </script>\n",
              "</div>\n",
              "\n",
              "    </div>\n",
              "  </div>\n"
            ],
            "application/vnd.google.colaboratory.intrinsic+json": {
              "type": "dataframe",
              "summary": "{\n  \"name\": \"df\",\n  \"rows\": 5,\n  \"fields\": [\n    {\n      \"column\": \"CreditScore\",\n      \"properties\": {\n        \"dtype\": \"number\",\n        \"std\": 113,\n        \"min\": 516,\n        \"max\": 792,\n        \"num_unique_values\": 5,\n        \"samples\": [\n          516,\n          792,\n          709\n        ],\n        \"semantic_type\": \"\",\n        \"description\": \"\"\n      }\n    },\n    {\n      \"column\": \"Gender\",\n      \"properties\": {\n        \"dtype\": \"number\",\n        \"std\": 0,\n        \"min\": 0,\n        \"max\": 1,\n        \"num_unique_values\": 2,\n        \"samples\": [\n          0,\n          1\n        ],\n        \"semantic_type\": \"\",\n        \"description\": \"\"\n      }\n    },\n    {\n      \"column\": \"Age\",\n      \"properties\": {\n        \"dtype\": \"number\",\n        \"std\": 5,\n        \"min\": 28,\n        \"max\": 42,\n        \"num_unique_values\": 5,\n        \"samples\": [\n          35,\n          28\n        ],\n        \"semantic_type\": \"\",\n        \"description\": \"\"\n      }\n    },\n    {\n      \"column\": \"Tenure\",\n      \"properties\": {\n        \"dtype\": \"number\",\n        \"std\": 2,\n        \"min\": 3,\n        \"max\": 10,\n        \"num_unique_values\": 5,\n        \"samples\": [\n          10,\n          4\n        ],\n        \"semantic_type\": \"\",\n        \"description\": \"\"\n      }\n    },\n    {\n      \"column\": \"Balance\",\n      \"properties\": {\n        \"dtype\": \"number\",\n        \"std\": 54941.46663387199,\n        \"min\": 0.0,\n        \"max\": 130142.79,\n        \"num_unique_values\": 4,\n        \"samples\": [\n          57369.61,\n          130142.79\n        ],\n        \"semantic_type\": \"\",\n        \"description\": \"\"\n      }\n    },\n    {\n      \"column\": \"NumOfProducts\",\n      \"properties\": {\n        \"dtype\": \"number\",\n        \"std\": 0,\n        \"min\": 1,\n        \"max\": 2,\n        \"num_unique_values\": 2,\n        \"samples\": [\n          1,\n          2\n        ],\n        \"semantic_type\": \"\",\n        \"description\": \"\"\n      }\n    },\n    {\n      \"column\": \"HasCrCard\",\n      \"properties\": {\n        \"dtype\": \"number\",\n        \"std\": 0,\n        \"min\": 0,\n        \"max\": 1,\n        \"num_unique_values\": 2,\n        \"samples\": [\n          0,\n          1\n        ],\n        \"semantic_type\": \"\",\n        \"description\": \"\"\n      }\n    },\n    {\n      \"column\": \"IsActiveMember\",\n      \"properties\": {\n        \"dtype\": \"number\",\n        \"std\": 0,\n        \"min\": 0,\n        \"max\": 1,\n        \"num_unique_values\": 2,\n        \"samples\": [\n          1,\n          0\n        ],\n        \"semantic_type\": \"\",\n        \"description\": \"\"\n      }\n    },\n    {\n      \"column\": \"EstimatedSalary\",\n      \"properties\": {\n        \"dtype\": \"number\",\n        \"std\": 31307.37738984567,\n        \"min\": 38190.78,\n        \"max\": 101699.77,\n        \"num_unique_values\": 5,\n        \"samples\": [\n          101699.77,\n          38190.78\n        ],\n        \"semantic_type\": \"\",\n        \"description\": \"\"\n      }\n    },\n    {\n      \"column\": \"Exited\",\n      \"properties\": {\n        \"dtype\": \"number\",\n        \"std\": 0,\n        \"min\": 0,\n        \"max\": 1,\n        \"num_unique_values\": 2,\n        \"samples\": [\n          1,\n          0\n        ],\n        \"semantic_type\": \"\",\n        \"description\": \"\"\n      }\n    },\n    {\n      \"column\": \"Geography_Germany\",\n      \"properties\": {\n        \"dtype\": \"number\",\n        \"std\": 0.447213595499958,\n        \"min\": 0.0,\n        \"max\": 1.0,\n        \"num_unique_values\": 2,\n        \"samples\": [\n          1.0,\n          0.0\n        ],\n        \"semantic_type\": \"\",\n        \"description\": \"\"\n      }\n    },\n    {\n      \"column\": \"Geography_Spain\",\n      \"properties\": {\n        \"dtype\": \"number\",\n        \"std\": 0.0,\n        \"min\": 0.0,\n        \"max\": 0.0,\n        \"num_unique_values\": 1,\n        \"samples\": [\n          0.0\n        ],\n        \"semantic_type\": \"\",\n        \"description\": \"\"\n      }\n    }\n  ]\n}"
            }
          },
          "metadata": {},
          "execution_count": 166
        }
      ]
    },
    {
      "cell_type": "code",
      "source": [
        "y=df[\"Exited\"]\n",
        "X = df.drop([\"Exited\"], axis = 1)"
      ],
      "metadata": {
        "id": "F6FLN4A_ROtj"
      },
      "execution_count": 167,
      "outputs": []
    },
    {
      "cell_type": "code",
      "source": [
        "from sklearn.model_selection import train_test_split\n",
        "X_train, X_test, y_train, y_test = train_test_split(X, y, test_size=0.2, random_state=1)"
      ],
      "metadata": {
        "id": "VihZ9JR-Rou_"
      },
      "execution_count": 168,
      "outputs": []
    },
    {
      "cell_type": "code",
      "source": [
        "from sklearn.preprocessing import MinMaxScaler\n",
        "scaler = MinMaxScaler()\n",
        "\n",
        "X_train = scaler.fit_transform(X_train)\n",
        "X_test = scaler.transform(X_test)"
      ],
      "metadata": {
        "id": "CCSMb9puSKVt"
      },
      "execution_count": 169,
      "outputs": []
    },
    {
      "cell_type": "code",
      "source": [
        "import tensorflow\n",
        "from tensorflow import keras\n",
        "\n",
        "from tensorflow.keras import Sequential\n",
        "from tensorflow.keras.layers import Dense\n"
      ],
      "metadata": {
        "id": "2MYaGcbfSqzu"
      },
      "execution_count": 170,
      "outputs": []
    },
    {
      "cell_type": "code",
      "source": [
        "model = Sequential()\n",
        "\n",
        "model.add(Dense(11, activation=\"relu\", input_dim=11))\n",
        "model.add(Dense(5, activation=\"relu\"))\n",
        "model.add(Dense(1, activation=\"sigmoid\"))"
      ],
      "metadata": {
        "id": "tzt-BT0CTrWl"
      },
      "execution_count": 171,
      "outputs": []
    },
    {
      "cell_type": "code",
      "source": [
        "model.summary()"
      ],
      "metadata": {
        "colab": {
          "base_uri": "https://localhost:8080/"
        },
        "id": "WEMyuUwZUYS1",
        "outputId": "a10bf379-b2b8-4a20-f80b-dc733a8e4def"
      },
      "execution_count": 172,
      "outputs": [
        {
          "output_type": "stream",
          "name": "stdout",
          "text": [
            "Model: \"sequential_6\"\n",
            "_________________________________________________________________\n",
            " Layer (type)                Output Shape              Param #   \n",
            "=================================================================\n",
            " dense_11 (Dense)            (None, 11)                132       \n",
            "                                                                 \n",
            " dense_12 (Dense)            (None, 5)                 60        \n",
            "                                                                 \n",
            " dense_13 (Dense)            (None, 1)                 6         \n",
            "                                                                 \n",
            "=================================================================\n",
            "Total params: 198 (792.00 Byte)\n",
            "Trainable params: 198 (792.00 Byte)\n",
            "Non-trainable params: 0 (0.00 Byte)\n",
            "_________________________________________________________________\n"
          ]
        }
      ]
    },
    {
      "cell_type": "code",
      "source": [
        "model.compile(loss=\"binary_crossentropy\", optimizer=\"adam\", metrics=[\"accuracy\"])"
      ],
      "metadata": {
        "id": "eVweYAQ1Uipz"
      },
      "execution_count": 173,
      "outputs": []
    },
    {
      "cell_type": "code",
      "source": [
        "history = model.fit(X_train, y_train, epochs=100, validation_split=0.2)"
      ],
      "metadata": {
        "colab": {
          "base_uri": "https://localhost:8080/"
        },
        "id": "evB_3DJ6Uwns",
        "outputId": "eeba0c6b-2001-4dd7-ee0c-579f0e813db3"
      },
      "execution_count": 174,
      "outputs": [
        {
          "output_type": "stream",
          "name": "stdout",
          "text": [
            "Epoch 1/100\n",
            "200/200 [==============================] - 1s 3ms/step - loss: 0.7330 - accuracy: 0.5719 - val_loss: 0.6385 - val_accuracy: 0.7975\n",
            "Epoch 2/100\n",
            "200/200 [==============================] - 0s 2ms/step - loss: 0.5474 - accuracy: 0.7972 - val_loss: 0.5093 - val_accuracy: 0.7975\n",
            "Epoch 3/100\n",
            "200/200 [==============================] - 0s 2ms/step - loss: 0.4947 - accuracy: 0.7972 - val_loss: 0.4946 - val_accuracy: 0.7975\n",
            "Epoch 4/100\n",
            "200/200 [==============================] - 0s 2ms/step - loss: 0.4817 - accuracy: 0.7972 - val_loss: 0.4821 - val_accuracy: 0.7975\n",
            "Epoch 5/100\n",
            "200/200 [==============================] - 0s 2ms/step - loss: 0.4684 - accuracy: 0.7973 - val_loss: 0.4679 - val_accuracy: 0.7987\n",
            "Epoch 6/100\n",
            "200/200 [==============================] - 1s 3ms/step - loss: 0.4572 - accuracy: 0.7991 - val_loss: 0.4599 - val_accuracy: 0.8050\n",
            "Epoch 7/100\n",
            "200/200 [==============================] - 0s 2ms/step - loss: 0.4502 - accuracy: 0.8027 - val_loss: 0.4537 - val_accuracy: 0.8100\n",
            "Epoch 8/100\n",
            "200/200 [==============================] - 0s 2ms/step - loss: 0.4431 - accuracy: 0.8066 - val_loss: 0.4466 - val_accuracy: 0.8144\n",
            "Epoch 9/100\n",
            "200/200 [==============================] - 0s 2ms/step - loss: 0.4353 - accuracy: 0.8128 - val_loss: 0.4403 - val_accuracy: 0.8144\n",
            "Epoch 10/100\n",
            "200/200 [==============================] - 1s 3ms/step - loss: 0.4301 - accuracy: 0.8142 - val_loss: 0.4343 - val_accuracy: 0.8125\n",
            "Epoch 11/100\n",
            "200/200 [==============================] - 1s 3ms/step - loss: 0.4262 - accuracy: 0.8184 - val_loss: 0.4272 - val_accuracy: 0.8163\n",
            "Epoch 12/100\n",
            "200/200 [==============================] - 1s 4ms/step - loss: 0.4170 - accuracy: 0.8217 - val_loss: 0.4170 - val_accuracy: 0.8225\n",
            "Epoch 13/100\n",
            "200/200 [==============================] - 1s 3ms/step - loss: 0.4083 - accuracy: 0.8264 - val_loss: 0.4093 - val_accuracy: 0.8250\n",
            "Epoch 14/100\n",
            "200/200 [==============================] - 1s 4ms/step - loss: 0.4000 - accuracy: 0.8313 - val_loss: 0.3982 - val_accuracy: 0.8319\n",
            "Epoch 15/100\n",
            "200/200 [==============================] - 1s 3ms/step - loss: 0.3913 - accuracy: 0.8339 - val_loss: 0.3869 - val_accuracy: 0.8425\n",
            "Epoch 16/100\n",
            "200/200 [==============================] - 0s 2ms/step - loss: 0.3838 - accuracy: 0.8405 - val_loss: 0.3807 - val_accuracy: 0.8431\n",
            "Epoch 17/100\n",
            "200/200 [==============================] - 0s 2ms/step - loss: 0.3770 - accuracy: 0.8444 - val_loss: 0.3733 - val_accuracy: 0.8431\n",
            "Epoch 18/100\n",
            "200/200 [==============================] - 0s 2ms/step - loss: 0.3707 - accuracy: 0.8487 - val_loss: 0.3682 - val_accuracy: 0.8512\n",
            "Epoch 19/100\n",
            "200/200 [==============================] - 0s 2ms/step - loss: 0.3666 - accuracy: 0.8505 - val_loss: 0.3672 - val_accuracy: 0.8413\n",
            "Epoch 20/100\n",
            "200/200 [==============================] - 0s 2ms/step - loss: 0.3637 - accuracy: 0.8512 - val_loss: 0.3633 - val_accuracy: 0.8450\n",
            "Epoch 21/100\n",
            "200/200 [==============================] - 0s 2ms/step - loss: 0.3614 - accuracy: 0.8542 - val_loss: 0.3632 - val_accuracy: 0.8469\n",
            "Epoch 22/100\n",
            "200/200 [==============================] - 1s 3ms/step - loss: 0.3605 - accuracy: 0.8519 - val_loss: 0.3567 - val_accuracy: 0.8506\n",
            "Epoch 23/100\n",
            "200/200 [==============================] - 1s 3ms/step - loss: 0.3586 - accuracy: 0.8550 - val_loss: 0.3568 - val_accuracy: 0.8494\n",
            "Epoch 24/100\n",
            "200/200 [==============================] - 0s 2ms/step - loss: 0.3576 - accuracy: 0.8542 - val_loss: 0.3554 - val_accuracy: 0.8500\n",
            "Epoch 25/100\n",
            "200/200 [==============================] - 1s 3ms/step - loss: 0.3568 - accuracy: 0.8525 - val_loss: 0.3542 - val_accuracy: 0.8556\n",
            "Epoch 26/100\n",
            "200/200 [==============================] - 0s 2ms/step - loss: 0.3544 - accuracy: 0.8561 - val_loss: 0.3556 - val_accuracy: 0.8481\n",
            "Epoch 27/100\n",
            "200/200 [==============================] - 0s 2ms/step - loss: 0.3544 - accuracy: 0.8533 - val_loss: 0.3541 - val_accuracy: 0.8519\n",
            "Epoch 28/100\n",
            "200/200 [==============================] - 1s 3ms/step - loss: 0.3542 - accuracy: 0.8544 - val_loss: 0.3542 - val_accuracy: 0.8481\n",
            "Epoch 29/100\n",
            "200/200 [==============================] - 0s 2ms/step - loss: 0.3528 - accuracy: 0.8555 - val_loss: 0.3512 - val_accuracy: 0.8537\n",
            "Epoch 30/100\n",
            "200/200 [==============================] - 1s 3ms/step - loss: 0.3522 - accuracy: 0.8558 - val_loss: 0.3520 - val_accuracy: 0.8512\n",
            "Epoch 31/100\n",
            "200/200 [==============================] - 1s 3ms/step - loss: 0.3517 - accuracy: 0.8547 - val_loss: 0.3527 - val_accuracy: 0.8487\n",
            "Epoch 32/100\n",
            "200/200 [==============================] - 1s 3ms/step - loss: 0.3507 - accuracy: 0.8547 - val_loss: 0.3537 - val_accuracy: 0.8475\n",
            "Epoch 33/100\n",
            "200/200 [==============================] - 1s 3ms/step - loss: 0.3506 - accuracy: 0.8555 - val_loss: 0.3511 - val_accuracy: 0.8506\n",
            "Epoch 34/100\n",
            "200/200 [==============================] - 1s 4ms/step - loss: 0.3505 - accuracy: 0.8555 - val_loss: 0.3499 - val_accuracy: 0.8562\n",
            "Epoch 35/100\n",
            "200/200 [==============================] - 1s 3ms/step - loss: 0.3497 - accuracy: 0.8539 - val_loss: 0.3505 - val_accuracy: 0.8487\n",
            "Epoch 36/100\n",
            "200/200 [==============================] - 1s 4ms/step - loss: 0.3496 - accuracy: 0.8572 - val_loss: 0.3516 - val_accuracy: 0.8487\n",
            "Epoch 37/100\n",
            "200/200 [==============================] - 1s 4ms/step - loss: 0.3483 - accuracy: 0.8550 - val_loss: 0.3528 - val_accuracy: 0.8475\n",
            "Epoch 38/100\n",
            "200/200 [==============================] - 0s 2ms/step - loss: 0.3475 - accuracy: 0.8534 - val_loss: 0.3492 - val_accuracy: 0.8519\n",
            "Epoch 39/100\n",
            "200/200 [==============================] - 0s 2ms/step - loss: 0.3469 - accuracy: 0.8562 - val_loss: 0.3557 - val_accuracy: 0.8469\n",
            "Epoch 40/100\n",
            "200/200 [==============================] - 0s 2ms/step - loss: 0.3471 - accuracy: 0.8570 - val_loss: 0.3481 - val_accuracy: 0.8494\n",
            "Epoch 41/100\n",
            "200/200 [==============================] - 0s 2ms/step - loss: 0.3463 - accuracy: 0.8561 - val_loss: 0.3492 - val_accuracy: 0.8512\n",
            "Epoch 42/100\n",
            "200/200 [==============================] - 0s 2ms/step - loss: 0.3461 - accuracy: 0.8572 - val_loss: 0.3478 - val_accuracy: 0.8475\n",
            "Epoch 43/100\n",
            "200/200 [==============================] - 0s 2ms/step - loss: 0.3449 - accuracy: 0.8573 - val_loss: 0.3473 - val_accuracy: 0.8531\n",
            "Epoch 44/100\n",
            "200/200 [==============================] - 0s 2ms/step - loss: 0.3454 - accuracy: 0.8552 - val_loss: 0.3466 - val_accuracy: 0.8531\n",
            "Epoch 45/100\n",
            "200/200 [==============================] - 0s 2ms/step - loss: 0.3452 - accuracy: 0.8569 - val_loss: 0.3483 - val_accuracy: 0.8481\n",
            "Epoch 46/100\n",
            "200/200 [==============================] - 0s 2ms/step - loss: 0.3451 - accuracy: 0.8570 - val_loss: 0.3458 - val_accuracy: 0.8512\n",
            "Epoch 47/100\n",
            "200/200 [==============================] - 1s 3ms/step - loss: 0.3434 - accuracy: 0.8567 - val_loss: 0.3488 - val_accuracy: 0.8475\n",
            "Epoch 48/100\n",
            "200/200 [==============================] - 0s 2ms/step - loss: 0.3441 - accuracy: 0.8573 - val_loss: 0.3506 - val_accuracy: 0.8469\n",
            "Epoch 49/100\n",
            "200/200 [==============================] - 0s 2ms/step - loss: 0.3441 - accuracy: 0.8564 - val_loss: 0.3456 - val_accuracy: 0.8519\n",
            "Epoch 50/100\n",
            "200/200 [==============================] - 1s 3ms/step - loss: 0.3429 - accuracy: 0.8591 - val_loss: 0.3461 - val_accuracy: 0.8506\n",
            "Epoch 51/100\n",
            "200/200 [==============================] - 1s 3ms/step - loss: 0.3429 - accuracy: 0.8594 - val_loss: 0.3469 - val_accuracy: 0.8475\n",
            "Epoch 52/100\n",
            "200/200 [==============================] - 1s 3ms/step - loss: 0.3424 - accuracy: 0.8595 - val_loss: 0.3463 - val_accuracy: 0.8487\n",
            "Epoch 53/100\n",
            "200/200 [==============================] - 0s 2ms/step - loss: 0.3423 - accuracy: 0.8598 - val_loss: 0.3447 - val_accuracy: 0.8487\n",
            "Epoch 54/100\n",
            "200/200 [==============================] - 0s 2ms/step - loss: 0.3415 - accuracy: 0.8602 - val_loss: 0.3453 - val_accuracy: 0.8481\n",
            "Epoch 55/100\n",
            "200/200 [==============================] - 1s 3ms/step - loss: 0.3420 - accuracy: 0.8573 - val_loss: 0.3448 - val_accuracy: 0.8506\n",
            "Epoch 56/100\n",
            "200/200 [==============================] - 0s 2ms/step - loss: 0.3410 - accuracy: 0.8572 - val_loss: 0.3440 - val_accuracy: 0.8506\n",
            "Epoch 57/100\n",
            "200/200 [==============================] - 1s 3ms/step - loss: 0.3419 - accuracy: 0.8573 - val_loss: 0.3447 - val_accuracy: 0.8487\n",
            "Epoch 58/100\n",
            "200/200 [==============================] - 1s 3ms/step - loss: 0.3404 - accuracy: 0.8603 - val_loss: 0.3453 - val_accuracy: 0.8469\n",
            "Epoch 59/100\n",
            "200/200 [==============================] - 1s 4ms/step - loss: 0.3406 - accuracy: 0.8581 - val_loss: 0.3444 - val_accuracy: 0.8469\n",
            "Epoch 60/100\n",
            "200/200 [==============================] - 1s 4ms/step - loss: 0.3405 - accuracy: 0.8600 - val_loss: 0.3452 - val_accuracy: 0.8456\n",
            "Epoch 61/100\n",
            "200/200 [==============================] - 1s 4ms/step - loss: 0.3400 - accuracy: 0.8602 - val_loss: 0.3440 - val_accuracy: 0.8512\n",
            "Epoch 62/100\n",
            "200/200 [==============================] - 0s 2ms/step - loss: 0.3408 - accuracy: 0.8584 - val_loss: 0.3477 - val_accuracy: 0.8481\n",
            "Epoch 63/100\n",
            "200/200 [==============================] - 0s 2ms/step - loss: 0.3392 - accuracy: 0.8603 - val_loss: 0.3480 - val_accuracy: 0.8481\n",
            "Epoch 64/100\n",
            "200/200 [==============================] - 0s 2ms/step - loss: 0.3400 - accuracy: 0.8598 - val_loss: 0.3440 - val_accuracy: 0.8512\n",
            "Epoch 65/100\n",
            "200/200 [==============================] - 0s 2ms/step - loss: 0.3390 - accuracy: 0.8611 - val_loss: 0.3448 - val_accuracy: 0.8475\n",
            "Epoch 66/100\n",
            "200/200 [==============================] - 0s 2ms/step - loss: 0.3390 - accuracy: 0.8603 - val_loss: 0.3447 - val_accuracy: 0.8469\n",
            "Epoch 67/100\n",
            "200/200 [==============================] - 1s 3ms/step - loss: 0.3392 - accuracy: 0.8622 - val_loss: 0.3453 - val_accuracy: 0.8469\n",
            "Epoch 68/100\n",
            "200/200 [==============================] - 0s 2ms/step - loss: 0.3383 - accuracy: 0.8614 - val_loss: 0.3443 - val_accuracy: 0.8506\n",
            "Epoch 69/100\n",
            "200/200 [==============================] - 1s 3ms/step - loss: 0.3382 - accuracy: 0.8606 - val_loss: 0.3445 - val_accuracy: 0.8531\n",
            "Epoch 70/100\n",
            "200/200 [==============================] - 1s 3ms/step - loss: 0.3378 - accuracy: 0.8627 - val_loss: 0.3450 - val_accuracy: 0.8456\n",
            "Epoch 71/100\n",
            "200/200 [==============================] - 1s 3ms/step - loss: 0.3376 - accuracy: 0.8622 - val_loss: 0.3439 - val_accuracy: 0.8500\n",
            "Epoch 72/100\n",
            "200/200 [==============================] - 1s 3ms/step - loss: 0.3370 - accuracy: 0.8623 - val_loss: 0.3417 - val_accuracy: 0.8487\n",
            "Epoch 73/100\n",
            "200/200 [==============================] - 1s 3ms/step - loss: 0.3381 - accuracy: 0.8636 - val_loss: 0.3444 - val_accuracy: 0.8487\n",
            "Epoch 74/100\n",
            "200/200 [==============================] - 1s 2ms/step - loss: 0.3386 - accuracy: 0.8606 - val_loss: 0.3418 - val_accuracy: 0.8475\n",
            "Epoch 75/100\n",
            "200/200 [==============================] - 1s 2ms/step - loss: 0.3366 - accuracy: 0.8639 - val_loss: 0.3422 - val_accuracy: 0.8512\n",
            "Epoch 76/100\n",
            "200/200 [==============================] - 0s 2ms/step - loss: 0.3368 - accuracy: 0.8620 - val_loss: 0.3432 - val_accuracy: 0.8500\n",
            "Epoch 77/100\n",
            "200/200 [==============================] - 1s 3ms/step - loss: 0.3379 - accuracy: 0.8612 - val_loss: 0.3430 - val_accuracy: 0.8506\n",
            "Epoch 78/100\n",
            "200/200 [==============================] - 0s 2ms/step - loss: 0.3363 - accuracy: 0.8637 - val_loss: 0.3446 - val_accuracy: 0.8512\n",
            "Epoch 79/100\n",
            "200/200 [==============================] - 1s 3ms/step - loss: 0.3358 - accuracy: 0.8619 - val_loss: 0.3439 - val_accuracy: 0.8506\n",
            "Epoch 80/100\n",
            "200/200 [==============================] - 1s 3ms/step - loss: 0.3355 - accuracy: 0.8631 - val_loss: 0.3508 - val_accuracy: 0.8469\n",
            "Epoch 81/100\n",
            "200/200 [==============================] - 0s 2ms/step - loss: 0.3360 - accuracy: 0.8623 - val_loss: 0.3445 - val_accuracy: 0.8481\n",
            "Epoch 82/100\n",
            "200/200 [==============================] - 1s 4ms/step - loss: 0.3358 - accuracy: 0.8633 - val_loss: 0.3501 - val_accuracy: 0.8462\n",
            "Epoch 83/100\n",
            "200/200 [==============================] - 1s 3ms/step - loss: 0.3366 - accuracy: 0.8637 - val_loss: 0.3433 - val_accuracy: 0.8500\n",
            "Epoch 84/100\n",
            "200/200 [==============================] - 1s 4ms/step - loss: 0.3358 - accuracy: 0.8648 - val_loss: 0.3433 - val_accuracy: 0.8481\n",
            "Epoch 85/100\n",
            "200/200 [==============================] - 1s 4ms/step - loss: 0.3360 - accuracy: 0.8616 - val_loss: 0.3446 - val_accuracy: 0.8494\n",
            "Epoch 86/100\n",
            "200/200 [==============================] - 0s 2ms/step - loss: 0.3354 - accuracy: 0.8630 - val_loss: 0.3434 - val_accuracy: 0.8481\n",
            "Epoch 87/100\n",
            "200/200 [==============================] - 0s 2ms/step - loss: 0.3349 - accuracy: 0.8633 - val_loss: 0.3415 - val_accuracy: 0.8512\n",
            "Epoch 88/100\n",
            "200/200 [==============================] - 0s 2ms/step - loss: 0.3350 - accuracy: 0.8620 - val_loss: 0.3463 - val_accuracy: 0.8475\n",
            "Epoch 89/100\n",
            "200/200 [==============================] - 0s 2ms/step - loss: 0.3355 - accuracy: 0.8644 - val_loss: 0.3411 - val_accuracy: 0.8525\n",
            "Epoch 90/100\n",
            "200/200 [==============================] - 0s 2ms/step - loss: 0.3348 - accuracy: 0.8637 - val_loss: 0.3436 - val_accuracy: 0.8506\n",
            "Epoch 91/100\n",
            "200/200 [==============================] - 0s 2ms/step - loss: 0.3354 - accuracy: 0.8644 - val_loss: 0.3417 - val_accuracy: 0.8544\n",
            "Epoch 92/100\n",
            "200/200 [==============================] - 0s 2ms/step - loss: 0.3351 - accuracy: 0.8636 - val_loss: 0.3419 - val_accuracy: 0.8512\n",
            "Epoch 93/100\n",
            "200/200 [==============================] - 1s 3ms/step - loss: 0.3347 - accuracy: 0.8625 - val_loss: 0.3432 - val_accuracy: 0.8512\n",
            "Epoch 94/100\n",
            "200/200 [==============================] - 0s 2ms/step - loss: 0.3344 - accuracy: 0.8639 - val_loss: 0.3434 - val_accuracy: 0.8487\n",
            "Epoch 95/100\n",
            "200/200 [==============================] - 0s 2ms/step - loss: 0.3345 - accuracy: 0.8623 - val_loss: 0.3436 - val_accuracy: 0.8506\n",
            "Epoch 96/100\n",
            "200/200 [==============================] - 0s 2ms/step - loss: 0.3347 - accuracy: 0.8647 - val_loss: 0.3430 - val_accuracy: 0.8500\n",
            "Epoch 97/100\n",
            "200/200 [==============================] - 1s 3ms/step - loss: 0.3343 - accuracy: 0.8637 - val_loss: 0.3422 - val_accuracy: 0.8519\n",
            "Epoch 98/100\n",
            "200/200 [==============================] - 0s 2ms/step - loss: 0.3335 - accuracy: 0.8645 - val_loss: 0.3422 - val_accuracy: 0.8506\n",
            "Epoch 99/100\n",
            "200/200 [==============================] - 1s 3ms/step - loss: 0.3339 - accuracy: 0.8647 - val_loss: 0.3407 - val_accuracy: 0.8506\n",
            "Epoch 100/100\n",
            "200/200 [==============================] - 1s 3ms/step - loss: 0.3339 - accuracy: 0.8661 - val_loss: 0.3413 - val_accuracy: 0.8487\n"
          ]
        }
      ]
    },
    {
      "cell_type": "code",
      "source": [
        "model.layers[0].get_weights()"
      ],
      "metadata": {
        "colab": {
          "base_uri": "https://localhost:8080/"
        },
        "id": "w6oy1QrjU9SC",
        "outputId": "45ea5dda-f994-449d-de5e-ca58b3ef1005"
      },
      "execution_count": 175,
      "outputs": [
        {
          "output_type": "execute_result",
          "data": {
            "text/plain": [
              "[array([[-4.20077844e-03,  4.86970156e-01,  1.47897571e-01,\n",
              "         -4.74062599e-02,  6.20001614e-01,  3.60702455e-01,\n",
              "         -9.85218957e-02,  3.61327678e-01,  3.07730902e-02,\n",
              "          1.02427460e-01, -3.45778093e-02],\n",
              "        [ 5.51791526e-02,  2.59513021e-01,  9.90349576e-02,\n",
              "          3.39644372e-01, -3.38897437e-01, -1.24665171e-01,\n",
              "         -7.25229606e-02,  8.78918320e-02,  1.81620277e-03,\n",
              "          4.70725968e-02,  9.95708257e-02],\n",
              "        [-1.89139783e-01, -2.85252333e-01, -2.66455203e-01,\n",
              "          1.52574405e-01, -4.21488047e-01, -4.55625132e-02,\n",
              "          1.06339887e-01, -2.68316299e-01, -3.64032388e-01,\n",
              "         -1.69267178e+00, -4.24516022e-01],\n",
              "        [ 4.30253178e-01,  3.03847715e-02, -2.40324169e-01,\n",
              "          2.36539558e-01,  3.15102935e-01,  1.14194095e-01,\n",
              "         -5.45690730e-02,  1.60488725e-01,  2.10387483e-02,\n",
              "         -6.59955386e-03,  7.05155879e-02],\n",
              "        [-1.29187629e-01, -5.58758259e-01, -8.18209201e-02,\n",
              "         -3.04300785e-01, -4.93101887e-02, -1.59108132e-01,\n",
              "          8.51440728e-01, -4.57691848e-01,  3.56314152e-01,\n",
              "          9.89914760e-02, -8.26177955e-01],\n",
              "        [ 1.13104832e+00,  3.54537755e-01, -5.68131924e-01,\n",
              "          9.08174932e-01,  8.47806036e-01, -1.37472594e+00,\n",
              "          4.16435242e-01,  2.63421267e-01,  1.57022011e+00,\n",
              "          2.47600958e-01, -2.94863987e+00],\n",
              "        [ 2.76165366e-01,  2.24570334e-01, -4.93047953e-01,\n",
              "         -8.41137320e-02,  9.54723172e-03,  8.85483902e-03,\n",
              "          4.48655128e-01, -4.65799987e-01, -7.58847669e-02,\n",
              "         -1.66177601e-02, -1.08550794e-01],\n",
              "        [ 3.59308362e-01,  9.32227433e-01,  2.72007167e-01,\n",
              "         -6.71494007e-01,  2.27180049e-02,  7.52091408e-02,\n",
              "         -7.11077034e-01,  1.96676224e-01,  1.27386868e-01,\n",
              "         -2.30810836e-01,  8.73842612e-02],\n",
              "        [ 2.85652548e-01, -1.12861678e-01, -3.91648233e-01,\n",
              "          4.37041879e-01, -4.05672520e-01, -2.06433073e-01,\n",
              "          3.45374137e-01, -1.23639286e+00, -1.12652853e-02,\n",
              "          2.49904431e-02,  1.15461275e-01],\n",
              "        [-2.30478302e-01,  2.15486601e-01,  5.37395179e-01,\n",
              "         -4.15192544e-01,  1.30381644e-01, -2.49321908e-01,\n",
              "          3.52253973e-01,  6.98648244e-02, -1.61179259e-01,\n",
              "         -1.58186862e-03,  2.97861367e-01],\n",
              "        [ 1.68510765e-01,  2.55376264e-03,  4.41154212e-01,\n",
              "         -2.02938899e-01,  3.93024653e-01, -1.02237141e+00,\n",
              "          1.53462157e-01,  1.60942435e-01,  2.84857620e-02,\n",
              "         -2.09585321e-03,  2.18355119e-01]], dtype=float32),\n",
              " array([ 0.33378994,  0.32442364,  0.08147135,  0.23390278, -0.26277533,\n",
              "         0.35081297,  0.03135053, -0.07462961, -0.47311768,  0.74867   ,\n",
              "         0.45388547], dtype=float32)]"
            ]
          },
          "metadata": {},
          "execution_count": 175
        }
      ]
    },
    {
      "cell_type": "code",
      "source": [
        "y_pred = model.predict(X_test)\n",
        "results = np.where(y_pred>0.5, 1, 0)"
      ],
      "metadata": {
        "colab": {
          "base_uri": "https://localhost:8080/"
        },
        "id": "n8ebgdVLVmWu",
        "outputId": "160bc607-9420-4c10-9a28-c6b78b65db9a"
      },
      "execution_count": 176,
      "outputs": [
        {
          "output_type": "stream",
          "name": "stdout",
          "text": [
            "63/63 [==============================] - 0s 1ms/step\n"
          ]
        }
      ]
    },
    {
      "cell_type": "code",
      "source": [
        "from sklearn.metrics import accuracy_score\n",
        "accuracy_score(y_test, results)"
      ],
      "metadata": {
        "colab": {
          "base_uri": "https://localhost:8080/"
        },
        "id": "Ej4h9Ut7WEcR",
        "outputId": "5a963c0a-0325-4de4-e083-8cb18d115776"
      },
      "execution_count": 177,
      "outputs": [
        {
          "output_type": "execute_result",
          "data": {
            "text/plain": [
              "0.866"
            ]
          },
          "metadata": {},
          "execution_count": 177
        }
      ]
    },
    {
      "cell_type": "code",
      "source": [
        "import matplotlib.pyplot as plt\n",
        "\n",
        "# summarize history for accuracy\n",
        "plt.plot(history.history['accuracy'])\n",
        "plt.plot(history.history['val_accuracy'])\n",
        "plt.title('model accuracy')\n",
        "plt.ylabel('accuracy')\n",
        "plt.xlabel('epoch')\n",
        "plt.legend(['Train', 'Validation'], loc='upper left')\n",
        "plt.show()\n",
        "# summarize history for loss\n",
        "plt.plot(history.history['loss'])\n",
        "plt.plot(history.history['val_loss'])\n",
        "plt.title('model loss')\n",
        "plt.ylabel('loss')\n",
        "plt.xlabel('epoch')\n",
        "plt.legend(['Train', 'Validation'], loc='upper left')\n",
        "plt.show()"
      ],
      "metadata": {
        "colab": {
          "base_uri": "https://localhost:8080/",
          "height": 927
        },
        "id": "hyXQWvjZYg3j",
        "outputId": "064ab6d7-f3c1-44ea-c4bf-5aea9fa9ebd2"
      },
      "execution_count": 178,
      "outputs": [
        {
          "output_type": "display_data",
          "data": {
            "text/plain": [
              "<Figure size 640x480 with 1 Axes>"
            ],
            "image/png": "[encoded data removed]"
          },
          "metadata": {}
        },
        {
          "output_type": "display_data",
          "data": {
            "text/plain": [
              "<Figure size 640x480 with 1 Axes>"
            ],
            "image/png": "[encoded data removed]"
          },
          "metadata": {}
        }
      ]
    }
  ]
}